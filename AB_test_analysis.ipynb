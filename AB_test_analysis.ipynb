{
 "cells": [
  {
   "cell_type": "code",
   "execution_count": 4,
   "id": "grand-watershed",
   "metadata": {},
   "outputs": [],
   "source": [
    "import numpy as np\n",
    "import pandas as pd\n",
    "from scipy import stats\n",
    "import matplotlib.pyplot as plt\n",
    "import seaborn as sns\n",
    "from statsmodels.stats.weightstats import zconfint\n",
    "%matplotlib inline"
   ]
  },
  {
   "cell_type": "markdown",
   "id": "orange-sensitivity",
   "metadata": {},
   "source": [
    "# Загрузка данных"
   ]
  },
  {
   "cell_type": "code",
   "execution_count": 13,
   "id": "threaded-output",
   "metadata": {},
   "outputs": [],
   "source": [
    "studs = pd.read_csv('active_studs.csv')\n",
    "checks = pd.read_csv('checks.csv', delimiter=';')\n",
    "groups = pd.read_csv('groups.csv', delimiter=';')"
   ]
  },
  {
   "cell_type": "code",
   "execution_count": 14,
   "id": "suspended-plastic",
   "metadata": {},
   "outputs": [
    {
     "data": {
      "text/html": [
       "<div>\n",
       "<style scoped>\n",
       "    .dataframe tbody tr th:only-of-type {\n",
       "        vertical-align: middle;\n",
       "    }\n",
       "\n",
       "    .dataframe tbody tr th {\n",
       "        vertical-align: top;\n",
       "    }\n",
       "\n",
       "    .dataframe thead th {\n",
       "        text-align: right;\n",
       "    }\n",
       "</style>\n",
       "<table border=\"1\" class=\"dataframe\">\n",
       "  <thead>\n",
       "    <tr style=\"text-align: right;\">\n",
       "      <th></th>\n",
       "      <th>student_id</th>\n",
       "    </tr>\n",
       "  </thead>\n",
       "  <tbody>\n",
       "    <tr>\n",
       "      <th>0</th>\n",
       "      <td>581585</td>\n",
       "    </tr>\n",
       "    <tr>\n",
       "      <th>1</th>\n",
       "      <td>5723133</td>\n",
       "    </tr>\n",
       "    <tr>\n",
       "      <th>2</th>\n",
       "      <td>3276743</td>\n",
       "    </tr>\n",
       "    <tr>\n",
       "      <th>3</th>\n",
       "      <td>4238589</td>\n",
       "    </tr>\n",
       "    <tr>\n",
       "      <th>4</th>\n",
       "      <td>4475369</td>\n",
       "    </tr>\n",
       "  </tbody>\n",
       "</table>\n",
       "</div>"
      ],
      "text/plain": [
       "   student_id\n",
       "0      581585\n",
       "1     5723133\n",
       "2     3276743\n",
       "3     4238589\n",
       "4     4475369"
      ]
     },
     "execution_count": 14,
     "metadata": {},
     "output_type": "execute_result"
    }
   ],
   "source": [
    "studs.head()"
   ]
  },
  {
   "cell_type": "code",
   "execution_count": 15,
   "id": "indie-tenant",
   "metadata": {},
   "outputs": [
    {
     "data": {
      "text/html": [
       "<div>\n",
       "<style scoped>\n",
       "    .dataframe tbody tr th:only-of-type {\n",
       "        vertical-align: middle;\n",
       "    }\n",
       "\n",
       "    .dataframe tbody tr th {\n",
       "        vertical-align: top;\n",
       "    }\n",
       "\n",
       "    .dataframe thead th {\n",
       "        text-align: right;\n",
       "    }\n",
       "</style>\n",
       "<table border=\"1\" class=\"dataframe\">\n",
       "  <thead>\n",
       "    <tr style=\"text-align: right;\">\n",
       "      <th></th>\n",
       "      <th>student_id</th>\n",
       "      <th>rev</th>\n",
       "    </tr>\n",
       "  </thead>\n",
       "  <tbody>\n",
       "    <tr>\n",
       "      <th>0</th>\n",
       "      <td>1627</td>\n",
       "      <td>990.0</td>\n",
       "    </tr>\n",
       "    <tr>\n",
       "      <th>1</th>\n",
       "      <td>3185</td>\n",
       "      <td>690.0</td>\n",
       "    </tr>\n",
       "    <tr>\n",
       "      <th>2</th>\n",
       "      <td>25973</td>\n",
       "      <td>690.0</td>\n",
       "    </tr>\n",
       "    <tr>\n",
       "      <th>3</th>\n",
       "      <td>26280</td>\n",
       "      <td>690.0</td>\n",
       "    </tr>\n",
       "    <tr>\n",
       "      <th>4</th>\n",
       "      <td>100300</td>\n",
       "      <td>990.0</td>\n",
       "    </tr>\n",
       "  </tbody>\n",
       "</table>\n",
       "</div>"
      ],
      "text/plain": [
       "   student_id    rev\n",
       "0        1627  990.0\n",
       "1        3185  690.0\n",
       "2       25973  690.0\n",
       "3       26280  690.0\n",
       "4      100300  990.0"
      ]
     },
     "execution_count": 15,
     "metadata": {},
     "output_type": "execute_result"
    }
   ],
   "source": [
    "checks.head()"
   ]
  },
  {
   "cell_type": "code",
   "execution_count": 16,
   "id": "received-sequence",
   "metadata": {},
   "outputs": [
    {
     "data": {
      "text/html": [
       "<div>\n",
       "<style scoped>\n",
       "    .dataframe tbody tr th:only-of-type {\n",
       "        vertical-align: middle;\n",
       "    }\n",
       "\n",
       "    .dataframe tbody tr th {\n",
       "        vertical-align: top;\n",
       "    }\n",
       "\n",
       "    .dataframe thead th {\n",
       "        text-align: right;\n",
       "    }\n",
       "</style>\n",
       "<table border=\"1\" class=\"dataframe\">\n",
       "  <thead>\n",
       "    <tr style=\"text-align: right;\">\n",
       "      <th></th>\n",
       "      <th>id</th>\n",
       "      <th>grp</th>\n",
       "    </tr>\n",
       "  </thead>\n",
       "  <tbody>\n",
       "    <tr>\n",
       "      <th>0</th>\n",
       "      <td>1206794</td>\n",
       "      <td>B</td>\n",
       "    </tr>\n",
       "    <tr>\n",
       "      <th>1</th>\n",
       "      <td>331024</td>\n",
       "      <td>B</td>\n",
       "    </tr>\n",
       "    <tr>\n",
       "      <th>2</th>\n",
       "      <td>1733498</td>\n",
       "      <td>A</td>\n",
       "    </tr>\n",
       "    <tr>\n",
       "      <th>3</th>\n",
       "      <td>161574</td>\n",
       "      <td>B</td>\n",
       "    </tr>\n",
       "    <tr>\n",
       "      <th>4</th>\n",
       "      <td>168443</td>\n",
       "      <td>B</td>\n",
       "    </tr>\n",
       "  </tbody>\n",
       "</table>\n",
       "</div>"
      ],
      "text/plain": [
       "        id grp\n",
       "0  1206794   B\n",
       "1   331024   B\n",
       "2  1733498   A\n",
       "3   161574   B\n",
       "4   168443   B"
      ]
     },
     "execution_count": 16,
     "metadata": {},
     "output_type": "execute_result"
    }
   ],
   "source": [
    "groups.head()"
   ]
  },
  {
   "cell_type": "markdown",
   "id": "graphic-people",
   "metadata": {},
   "source": [
    "# Выбор метрик"
   ]
  },
  {
   "cell_type": "markdown",
   "id": "protected-plane",
   "metadata": {},
   "source": [
    "Исходя из того, что нам известна информация только об олпатах пользователей, разумно посчитать следующие метрики: ARPU, ARPPU, CR в покупку и средний чек.\n",
    "Также может быть полезна доля активных пользователей."
   ]
  },
  {
   "cell_type": "markdown",
   "id": "presidential-wallpaper",
   "metadata": {},
   "source": [
    "# Подготовка данных"
   ]
  },
  {
   "cell_type": "markdown",
   "id": "veterinary-representation",
   "metadata": {},
   "source": [
    " Удалим пользователей, не зашедших во время проведения A/B теста."
   ]
  },
  {
   "cell_type": "code",
   "execution_count": 17,
   "id": "fitted-female",
   "metadata": {},
   "outputs": [],
   "source": [
    "payed_users = checks.merge(studs, how='inner', on='student_id')\n",
    "data_ab = pd.merge(payed_users, groups, left_on='student_id', right_on='id')"
   ]
  },
  {
   "cell_type": "markdown",
   "id": "adverse-jacket",
   "metadata": {},
   "source": [
    "Считаем средний чек"
   ]
  },
  {
   "cell_type": "code",
   "execution_count": 45,
   "id": "pharmaceutical-clark",
   "metadata": {},
   "outputs": [
    {
     "data": {
      "text/html": [
       "<div>\n",
       "<style scoped>\n",
       "    .dataframe tbody tr th:only-of-type {\n",
       "        vertical-align: middle;\n",
       "    }\n",
       "\n",
       "    .dataframe tbody tr th {\n",
       "        vertical-align: top;\n",
       "    }\n",
       "\n",
       "    .dataframe thead th {\n",
       "        text-align: right;\n",
       "    }\n",
       "</style>\n",
       "<table border=\"1\" class=\"dataframe\">\n",
       "  <thead>\n",
       "    <tr style=\"text-align: right;\">\n",
       "      <th></th>\n",
       "      <th>count</th>\n",
       "      <th>mean</th>\n",
       "      <th>std</th>\n",
       "      <th>min</th>\n",
       "      <th>25%</th>\n",
       "      <th>50%</th>\n",
       "      <th>75%</th>\n",
       "      <th>max</th>\n",
       "    </tr>\n",
       "    <tr>\n",
       "      <th>grp</th>\n",
       "      <th></th>\n",
       "      <th></th>\n",
       "      <th></th>\n",
       "      <th></th>\n",
       "      <th></th>\n",
       "      <th></th>\n",
       "      <th></th>\n",
       "      <th></th>\n",
       "    </tr>\n",
       "  </thead>\n",
       "  <tbody>\n",
       "    <tr>\n",
       "      <th>A</th>\n",
       "      <td>78.0</td>\n",
       "      <td>933.589744</td>\n",
       "      <td>919.932711</td>\n",
       "      <td>199.0</td>\n",
       "      <td>290.00</td>\n",
       "      <td>585.0</td>\n",
       "      <td>1114.75</td>\n",
       "      <td>3660.0</td>\n",
       "    </tr>\n",
       "    <tr>\n",
       "      <th>B</th>\n",
       "      <td>314.0</td>\n",
       "      <td>1257.878992</td>\n",
       "      <td>790.864254</td>\n",
       "      <td>199.0</td>\n",
       "      <td>511.75</td>\n",
       "      <td>1140.0</td>\n",
       "      <td>1900.00</td>\n",
       "      <td>4650.0</td>\n",
       "    </tr>\n",
       "  </tbody>\n",
       "</table>\n",
       "</div>"
      ],
      "text/plain": [
       "     count         mean         std    min     25%     50%      75%     max\n",
       "grp                                                                        \n",
       "A     78.0   933.589744  919.932711  199.0  290.00   585.0  1114.75  3660.0\n",
       "B    314.0  1257.878992  790.864254  199.0  511.75  1140.0  1900.00  4650.0"
      ]
     },
     "execution_count": 45,
     "metadata": {},
     "output_type": "execute_result"
    }
   ],
   "source": [
    "data_ab.groupby(['grp'])['rev'].describe()"
   ]
  },
  {
   "cell_type": "code",
   "execution_count": 73,
   "id": "right-ribbon",
   "metadata": {},
   "outputs": [
    {
     "data": {
      "image/png": "[encoded data removed]",
      "text/plain": [
       "<Figure size 432x288 with 2 Axes>"
      ]
     },
     "metadata": {
      "needs_background": "light"
     },
     "output_type": "display_data"
    }
   ],
   "source": [
    "data_ab[['rev', 'grp']].groupby('grp').boxplot();"
   ]
  },
  {
   "cell_type": "markdown",
   "id": "destroyed-collectible",
   "metadata": {},
   "source": [
    "Нарисуем гистограммы выручки"
   ]
  },
  {
   "cell_type": "code",
   "execution_count": 18,
   "id": "employed-property",
   "metadata": {},
   "outputs": [],
   "source": [
    "users_A = data_ab[data_ab['grp'] == 'A'].rev\n",
    "users_B = data_ab[data_ab['grp'] == 'B'].rev"
   ]
  },
  {
   "cell_type": "code",
   "execution_count": 104,
   "id": "postal-transcription",
   "metadata": {},
   "outputs": [
    {
     "data": {
      "image/png": "[encoded data removed]",
      "text/plain": [
       "<Figure size 432x288 with 1 Axes>"
      ]
     },
     "metadata": {
      "needs_background": "light"
     },
     "output_type": "display_data"
    }
   ],
   "source": [
    "sns.histplot(users_A)\n",
    "plt.title('Revenue histogram for group A');\n",
    "plt.xlabel('Revenue');"
   ]
  },
  {
   "cell_type": "code",
   "execution_count": 105,
   "id": "laden-adams",
   "metadata": {},
   "outputs": [
    {
     "data": {
      "image/png": "[encoded data removed]",
      "text/plain": [
       "<Figure size 432x288 with 1 Axes>"
      ]
     },
     "metadata": {
      "needs_background": "light"
     },
     "output_type": "display_data"
    }
   ],
   "source": [
    "sns.histplot(users_B)\n",
    "plt.title('Revenue histogram for group B');\n",
    "plt.xlabel('Revenue');"
   ]
  },
  {
   "cell_type": "markdown",
   "id": "indirect-thumbnail",
   "metadata": {},
   "source": [
    "Как и ожидалось, распределение сильно скошено, используем непараметрический критерий для проверки гипотезы."
   ]
  },
  {
   "cell_type": "markdown",
   "id": "integrated-oakland",
   "metadata": {},
   "source": [
    "# Проверим нулевую гипотезу о равенстве средних чеков против двусторонней альтернативы"
   ]
  },
  {
   "cell_type": "markdown",
   "id": "pretty-dallas",
   "metadata": {},
   "source": [
    "Посчитаем 95%-тный доверительный интервал для среднего чека:"
   ]
  },
  {
   "cell_type": "code",
   "execution_count": 94,
   "id": "protecting-shopper",
   "metadata": {},
   "outputs": [
    {
     "name": "stdout",
     "output_type": "stream",
     "text": [
      "95%-th confidence interval for the mean (A): (729.436233384177, 1137.74325379531)\n"
     ]
    }
   ],
   "source": [
    "print('95%-th confidence interval for the mean (A): {0}'.format(zconfint(users_A)))"
   ]
  },
  {
   "cell_type": "code",
   "execution_count": 95,
   "id": "activated-component",
   "metadata": {},
   "outputs": [
    {
     "name": "stdout",
     "output_type": "stream",
     "text": [
      "95%-th confidence interval for the mean (B): (1170.4037378048192, 1345.3542462716136)\n"
     ]
    }
   ],
   "source": [
    "print('95%-th confidence interval for the mean (B): {0}'.format(zconfint(users_B)))"
   ]
  },
  {
   "cell_type": "markdown",
   "id": "breathing-lobby",
   "metadata": {},
   "source": [
    "Видим, что доверительные интервалы не пересекаются."
   ]
  },
  {
   "cell_type": "code",
   "execution_count": 97,
   "id": "lyric-projector",
   "metadata": {},
   "outputs": [
    {
     "data": {
      "text/plain": [
       "MannwhitneyuResult(statistic=9001.0, pvalue=0.0001255696915703461)"
      ]
     },
     "execution_count": 97,
     "metadata": {},
     "output_type": "execute_result"
    }
   ],
   "source": [
    "stats.mannwhitneyu(users_A, users_B)"
   ]
  },
  {
   "cell_type": "markdown",
   "id": "pleasant-amber",
   "metadata": {},
   "source": [
    "Получаем, что Pvalue << 0.05 и отвергаем нулевую гипотезу."
   ]
  },
  {
   "cell_type": "markdown",
   "id": "specific-sound",
   "metadata": {},
   "source": [
    "# Подсчет метрик"
   ]
  },
  {
   "cell_type": "markdown",
   "id": "friendly-checkout",
   "metadata": {},
   "source": [
    "Посчитаем ARPU"
   ]
  },
  {
   "cell_type": "code",
   "execution_count": 12,
   "id": "governmental-pillow",
   "metadata": {},
   "outputs": [
    {
     "data": {
      "text/plain": [
       "grp\n",
       "A    1538\n",
       "B    6803\n",
       "dtype: int64"
      ]
     },
     "execution_count": 12,
     "metadata": {},
     "output_type": "execute_result"
    }
   ],
   "source": [
    "pd.merge(studs, groups, left_on='student_id', right_on='id').groupby('grp').size()"
   ]
  },
  {
   "cell_type": "code",
   "execution_count": 30,
   "id": "laden-competition",
   "metadata": {},
   "outputs": [],
   "source": [
    "arpu_a = users_A.sum()/1538.\n",
    "arpu_b = users_B.sum()/6803."
   ]
  },
  {
   "cell_type": "code",
   "execution_count": 27,
   "id": "fitted-explorer",
   "metadata": {},
   "outputs": [
    {
     "name": "stdout",
     "output_type": "stream",
     "text": [
      "ARPU for group A is equal to 47.34720416124838\n",
      "ARPU for group B is equal to 58.05879810377775\n"
     ]
    }
   ],
   "source": [
    "print(\"ARPU for group A is equal to {}\".format(arpu_a))\n",
    "print(\"ARPU for group B is equal to {}\".format(arpu_b))"
   ]
  },
  {
   "cell_type": "markdown",
   "id": "waiting-peeing",
   "metadata": {},
   "source": [
    "Считаем ARPPU"
   ]
  },
  {
   "cell_type": "code",
   "execution_count": 31,
   "id": "frank-state",
   "metadata": {},
   "outputs": [],
   "source": [
    "arppu_a = users_A.sum()/len(users_A)\n",
    "arppu_b = users_B.sum()/len(users_B)"
   ]
  },
  {
   "cell_type": "code",
   "execution_count": 32,
   "id": "otherwise-tamil",
   "metadata": {},
   "outputs": [
    {
     "name": "stdout",
     "output_type": "stream",
     "text": [
      "ARPPU for group A is equal to 933.5897435897435\n",
      "ARPPU for group B is equal to 1257.8789920382164\n"
     ]
    }
   ],
   "source": [
    "print(\"ARPPU for group A is equal to {}\".format(arppu_a))\n",
    "print(\"ARPPU for group B is equal to {}\".format(arppu_b))"
   ]
  },
  {
   "cell_type": "markdown",
   "id": "consistent-trade",
   "metadata": {},
   "source": [
    "Считаем CR в покупку"
   ]
  },
  {
   "cell_type": "code",
   "execution_count": 34,
   "id": "scientific-seller",
   "metadata": {},
   "outputs": [
    {
     "data": {
      "text/plain": [
       "grp\n",
       "A    1538\n",
       "B    6803\n",
       "dtype: int64"
      ]
     },
     "execution_count": 34,
     "metadata": {},
     "output_type": "execute_result"
    }
   ],
   "source": [
    "pd.merge(studs, groups, left_on='student_id', right_on='id').groupby('grp').size()"
   ]
  },
  {
   "cell_type": "code",
   "execution_count": 36,
   "id": "formed-memphis",
   "metadata": {},
   "outputs": [],
   "source": [
    "CR_a = len(users_A)/1538.\n",
    "CR_b = len(users_B)/6803."
   ]
  },
  {
   "cell_type": "code",
   "execution_count": 37,
   "id": "greatest-onion",
   "metadata": {},
   "outputs": [
    {
     "name": "stdout",
     "output_type": "stream",
     "text": [
      "CR for group A is equal to 0.05071521456436931\n",
      "CR for group B is equal to 0.046156107599588415\n"
     ]
    }
   ],
   "source": [
    "print(\"CR for group A is equal to {}\".format(CR_a))\n",
    "print(\"CR for group B is equal to {}\".format(CR_b))"
   ]
  },
  {
   "cell_type": "markdown",
   "id": "suited-lemon",
   "metadata": {},
   "source": [
    "# Вывод"
   ]
  },
  {
   "cell_type": "markdown",
   "id": "chronic-impression",
   "metadata": {},
   "source": [
    "Таким образом, статистически значимо растут все метрики кроме CR, и скорее всего стоит запустить новую механику оплаты."
   ]
  }
 ],
 "metadata": {
  "kernelspec": {
   "display_name": "Python 3",
   "language": "python",
   "name": "python3"
  },
  "language_info": {
   "codemirror_mode": {
    "name": "ipython",
    "version": 3
   },
   "file_extension": ".py",
   "mimetype": "text/x-python",
   "name": "python",
   "nbconvert_exporter": "python",
   "pygments_lexer": "ipython3",
   "version": "3.6.12"
  }
 },
 "nbformat": 4,
 "nbformat_minor": 5
}
